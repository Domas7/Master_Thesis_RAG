{
 "cells": [
  {
   "cell_type": "code",
   "execution_count": 21,
   "metadata": {},
   "outputs": [
    {
     "data": {
      "text/plain": [
       "' !pip install llama-index\\n!pip install llama-index-llms-openai\\n!pip install llama-index-embeddings-openai\\n!pip install llama-index-vector-stores-faiss '"
      ]
     },
     "execution_count": 21,
     "metadata": {},
     "output_type": "execute_result"
    }
   ],
   "source": [
    "\"\"\" !pip install llama-index\n",
    "!pip install llama-index-llms-openai\n",
    "!pip install llama-index-embeddings-openai\n",
    "!pip install llama-index-vector-stores-faiss \"\"\""
   ]
  },
  {
   "cell_type": "code",
   "execution_count": 22,
   "metadata": {},
   "outputs": [
    {
     "name": "stderr",
     "output_type": "stream",
     "text": [
      "2025-02-04 11:23:24,309 - INFO - Starting RAG OpenAI application...\n",
      "2025-02-04 11:23:24,309 - INFO - Loading environment variables...\n",
      "2025-02-04 11:23:24,311 - INFO - Environment variables loaded successfully\n",
      "2025-02-04 11:23:24,313 - INFO - Initializing LLM and embedding settings...\n",
      "2025-02-04 11:23:24,314 - INFO - LLM and embedding settings initialized\n"
     ]
    }
   ],
   "source": [
    "from llama_index.core.readers import SimpleDirectoryReader\n",
    "from llama_index.core import Settings\n",
    "from llama_index.llms.openai import OpenAI\n",
    "from llama_index.embeddings.openai import OpenAIEmbedding\n",
    "from llama_index.readers.file import PagedCSVReader\n",
    "from llama_index.vector_stores.faiss import FaissVectorStore\n",
    "from llama_index.core.ingestion import IngestionPipeline\n",
    "from llama_index.core import VectorStoreIndex\n",
    "import faiss\n",
    "import os\n",
    "import pandas as pd\n",
    "from dotenv import load_dotenv\n",
    "import logging\n",
    "from datetime import datetime\n",
    "import time\n",
    "\n",
    "# Set up logging configuration\n",
    "logging.basicConfig(\n",
    "    level=logging.INFO,\n",
    "    format='%(asctime)s - %(levelname)s - %(message)s',\n",
    "    handlers=[\n",
    "        logging.FileHandler(f'rag_openai_{datetime.now().strftime(\"%Y%m%d_%H%M%S\")}.log'),\n",
    "        logging.StreamHandler()\n",
    "    ]\n",
    ")\n",
    "logger = logging.getLogger(__name__)\n",
    "\n",
    "# Start timing\n",
    "start_time = time.time()\n",
    "logger.info(\"Starting RAG OpenAI application...\")\n",
    "\n",
    "# Load environment variables\n",
    "logger.info(\"Loading environment variables...\")\n",
    "\n",
    "# Load environment variables from a .env file\n",
    "load_dotenv()\n",
    "\n",
    "# Set the OpenAI API key environment variable\n",
    "os.environ[\"OPENAI_API_KEY\"] = os.getenv('OPENAI_API_KEY')\n",
    "if os.environ[\"OPENAI_API_KEY\"] is None:\n",
    "    logger.error(\"OPENAI_API_KEY not found in environment variables\")\n",
    "    raise ValueError(\"OPENAI_API_KEY not found in environment variables. Please check your .env file.\")\n",
    "logger.info(\"Environment variables loaded successfully\")\n",
    "\n",
    "\n",
    "# Llamaindex global settings for llm and embeddings\n",
    "logger.info(\"Initializing LLM and embedding settings...\")\n",
    "EMBED_DIMENSION=512\n",
    "Settings.llm = OpenAI(model=\"gpt-4o-mini\")\n",
    "Settings.embed_model = OpenAIEmbedding(model=\"text-embedding-3-small\", dimensions=EMBED_DIMENSION)\n",
    "logger.info(\"LLM and embedding settings initialized\")\n"
   ]
  },
  {
   "cell_type": "code",
   "execution_count": 23,
   "metadata": {},
   "outputs": [
    {
     "name": "stderr",
     "output_type": "stream",
     "text": [
      "2025-02-04 11:23:24,331 - INFO - Loading CSV file...\n",
      "2025-02-04 11:23:24,367 - INFO - Loaded CSV file with 422 rows\n"
     ]
    },
    {
     "data": {
      "text/html": [
       "<div>\n",
       "<style scoped>\n",
       "    .dataframe tbody tr th:only-of-type {\n",
       "        vertical-align: middle;\n",
       "    }\n",
       "\n",
       "    .dataframe tbody tr th {\n",
       "        vertical-align: top;\n",
       "    }\n",
       "\n",
       "    .dataframe thead th {\n",
       "        text-align: right;\n",
       "    }\n",
       "</style>\n",
       "<table border=\"1\" class=\"dataframe\">\n",
       "  <thead>\n",
       "    <tr style=\"text-align: right;\">\n",
       "      <th></th>\n",
       "      <th>url</th>\n",
       "      <th>subject</th>\n",
       "      <th>abstract</th>\n",
       "      <th>driving_event</th>\n",
       "      <th>lessons_learned</th>\n",
       "      <th>recommendations</th>\n",
       "      <th>evidence</th>\n",
       "      <th>program_relation</th>\n",
       "      <th>program_phase</th>\n",
       "      <th>mission_directorate</th>\n",
       "      <th>topics</th>\n",
       "    </tr>\n",
       "  </thead>\n",
       "  <tbody>\n",
       "    <tr>\n",
       "      <th>0</th>\n",
       "      <td>https://llis.nasa.gov/lesson/374</td>\n",
       "      <td>Higher Data Rates Possible Through Station Arr...</td>\n",
       "      <td>Because the MVM '73 project went to a degraded...</td>\n",
       "      <td>A previous failure of the onboard tape recorde...</td>\n",
       "      <td>The use of DSN arraying schemes can provide hi...</td>\n",
       "      <td>The project and the DSN must foresee and plan ...</td>\n",
       "      <td>JPL has referenced this lesson learned as addi...</td>\n",
       "      <td>NaN</td>\n",
       "      <td>NaN</td>\n",
       "      <td>NaN</td>\n",
       "      <td>NaN</td>\n",
       "    </tr>\n",
       "    <tr>\n",
       "      <th>1</th>\n",
       "      <td>https://llis.nasa.gov/lesson/400</td>\n",
       "      <td>Spacecraft Structure Dynamical Interaction wit...</td>\n",
       "      <td>As Mariner 10 approached Venus encounter, an u...</td>\n",
       "      <td>As Mariner 10 (MVM'73) was nearing encounter w...</td>\n",
       "      <td>Spacecraft structural dynamical interactions w...</td>\n",
       "      <td>During the spacecraft design phase, considerat...</td>\n",
       "      <td>JPL has referenced the lesson as supporting Pa...</td>\n",
       "      <td>NaN</td>\n",
       "      <td>NaN</td>\n",
       "      <td>NaN</td>\n",
       "      <td>NaN</td>\n",
       "    </tr>\n",
       "    <tr>\n",
       "      <th>2</th>\n",
       "      <td>https://llis.nasa.gov/lesson/486</td>\n",
       "      <td>Conduct Post Test Examination of Lot Acceptanc...</td>\n",
       "      <td>During lot acceptance test of ten Mars Observe...</td>\n",
       "      <td>As part of the Mars Observer mission failure i...</td>\n",
       "      <td>Successful lot functional acceptance tests may...</td>\n",
       "      <td>Alert users of NSIs to the possibility of dama...</td>\n",
       "      <td>JPL has referenced this lesson learned as addi...</td>\n",
       "      <td>NaN</td>\n",
       "      <td>NaN</td>\n",
       "      <td>NaN</td>\n",
       "      <td>NaN</td>\n",
       "    </tr>\n",
       "    <tr>\n",
       "      <th>3</th>\n",
       "      <td>https://llis.nasa.gov/lesson/708</td>\n",
       "      <td>Plasma Noise in EMI Design</td>\n",
       "      <td>Preferred Practice for Design &amp; Test. Electrom...</td>\n",
       "      <td>This Lesson Learned is based on Reliability Pr...</td>\n",
       "      <td>Unpredictable operational anomalies and compro...</td>\n",
       "      <td>Missions with payloads that can interact stron...</td>\n",
       "      <td>This practice has been used on Atmospheric Tra...</td>\n",
       "      <td>NaN</td>\n",
       "      <td>NaN</td>\n",
       "      <td>Aeronautics Research Human Exploration and Ope...</td>\n",
       "      <td>NaN</td>\n",
       "    </tr>\n",
       "    <tr>\n",
       "      <th>4</th>\n",
       "      <td>https://llis.nasa.gov/lesson/11501</td>\n",
       "      <td>MSL Actuator Design Process Escape</td>\n",
       "      <td>The mechanical design process for the Mars Sci...</td>\n",
       "      <td>The ambitious MSL mission presented some major...</td>\n",
       "      <td>See \"Recommendations.\"</td>\n",
       "      <td>Reference (4) provides a list of flaws in the ...</td>\n",
       "      <td>JPL has referenced this lesson learned as addi...</td>\n",
       "      <td>NaN</td>\n",
       "      <td>Implementation » Phase C</td>\n",
       "      <td>Human Exploration and Operations Science</td>\n",
       "      <td>Engineering Design Manufacturing and Assembly ...</td>\n",
       "    </tr>\n",
       "  </tbody>\n",
       "</table>\n",
       "</div>"
      ],
      "text/plain": [
       "                                  url  \\\n",
       "0    https://llis.nasa.gov/lesson/374   \n",
       "1    https://llis.nasa.gov/lesson/400   \n",
       "2    https://llis.nasa.gov/lesson/486   \n",
       "3    https://llis.nasa.gov/lesson/708   \n",
       "4  https://llis.nasa.gov/lesson/11501   \n",
       "\n",
       "                                             subject  \\\n",
       "0  Higher Data Rates Possible Through Station Arr...   \n",
       "1  Spacecraft Structure Dynamical Interaction wit...   \n",
       "2  Conduct Post Test Examination of Lot Acceptanc...   \n",
       "3                         Plasma Noise in EMI Design   \n",
       "4                 MSL Actuator Design Process Escape   \n",
       "\n",
       "                                            abstract  \\\n",
       "0  Because the MVM '73 project went to a degraded...   \n",
       "1  As Mariner 10 approached Venus encounter, an u...   \n",
       "2  During lot acceptance test of ten Mars Observe...   \n",
       "3  Preferred Practice for Design & Test. Electrom...   \n",
       "4  The mechanical design process for the Mars Sci...   \n",
       "\n",
       "                                       driving_event  \\\n",
       "0  A previous failure of the onboard tape recorde...   \n",
       "1  As Mariner 10 (MVM'73) was nearing encounter w...   \n",
       "2  As part of the Mars Observer mission failure i...   \n",
       "3  This Lesson Learned is based on Reliability Pr...   \n",
       "4  The ambitious MSL mission presented some major...   \n",
       "\n",
       "                                     lessons_learned  \\\n",
       "0  The use of DSN arraying schemes can provide hi...   \n",
       "1  Spacecraft structural dynamical interactions w...   \n",
       "2  Successful lot functional acceptance tests may...   \n",
       "3  Unpredictable operational anomalies and compro...   \n",
       "4                             See \"Recommendations.\"   \n",
       "\n",
       "                                     recommendations  \\\n",
       "0  The project and the DSN must foresee and plan ...   \n",
       "1  During the spacecraft design phase, considerat...   \n",
       "2  Alert users of NSIs to the possibility of dama...   \n",
       "3  Missions with payloads that can interact stron...   \n",
       "4  Reference (4) provides a list of flaws in the ...   \n",
       "\n",
       "                                            evidence program_relation  \\\n",
       "0  JPL has referenced this lesson learned as addi...              NaN   \n",
       "1  JPL has referenced the lesson as supporting Pa...              NaN   \n",
       "2  JPL has referenced this lesson learned as addi...              NaN   \n",
       "3  This practice has been used on Atmospheric Tra...              NaN   \n",
       "4  JPL has referenced this lesson learned as addi...              NaN   \n",
       "\n",
       "              program_phase  \\\n",
       "0                       NaN   \n",
       "1                       NaN   \n",
       "2                       NaN   \n",
       "3                       NaN   \n",
       "4  Implementation » Phase C   \n",
       "\n",
       "                                 mission_directorate  \\\n",
       "0                                                NaN   \n",
       "1                                                NaN   \n",
       "2                                                NaN   \n",
       "3  Aeronautics Research Human Exploration and Ope...   \n",
       "4           Human Exploration and Operations Science   \n",
       "\n",
       "                                              topics  \n",
       "0                                                NaN  \n",
       "1                                                NaN  \n",
       "2                                                NaN  \n",
       "3                                                NaN  \n",
       "4  Engineering Design Manufacturing and Assembly ...  "
      ]
     },
     "execution_count": 23,
     "metadata": {},
     "output_type": "execute_result"
    }
   ],
   "source": [
    "logger.info(\"Loading CSV file...\")\n",
    "file_path = 'Data Collection/nasa_lessons_learned_jet_propulsion_PROPER.csv'\n",
    "data = pd.read_csv(file_path)\n",
    "logger.info(f\"Loaded CSV file with {len(data)} rows\")\n",
    "data.head()"
   ]
  },
  {
   "cell_type": "code",
   "execution_count": 24,
   "metadata": {},
   "outputs": [
    {
     "name": "stderr",
     "output_type": "stream",
     "text": [
      "2025-02-04 11:23:24,395 - INFO - Creating FAISS vector store...\n",
      "2025-02-04 11:23:24,396 - INFO - FAISS vector store created\n"
     ]
    }
   ],
   "source": [
    "logger.info(\"Creating FAISS vector store...\")\n",
    "fais_index = faiss.IndexFlatL2(EMBED_DIMENSION)\n",
    "vector_store = FaissVectorStore(faiss_index=fais_index)\n",
    "logger.info(\"FAISS vector store created\")"
   ]
  },
  {
   "cell_type": "code",
   "execution_count": 25,
   "metadata": {},
   "outputs": [
    {
     "name": "stderr",
     "output_type": "stream",
     "text": [
      "2025-02-04 11:23:24,417 - INFO - Setting up document reader...\n"
     ]
    },
    {
     "name": "stderr",
     "output_type": "stream",
     "text": [
      "2025-02-04 11:23:24,476 - INFO - Loaded 422 documents\n"
     ]
    }
   ],
   "source": [
    "# Set up document reader\n",
    "logger.info(\"Setting up document reader...\")\n",
    "csv_reader = PagedCSVReader()\n",
    "reader = SimpleDirectoryReader(\n",
    "    input_files=[file_path],\n",
    "    file_extractor={\".csv\": csv_reader}\n",
    ")\n",
    "docs = reader.load_data()\n",
    "logger.info(f\"Loaded {len(docs)} documents\")"
   ]
  },
  {
   "cell_type": "code",
   "execution_count": 26,
   "metadata": {},
   "outputs": [
    {
     "name": "stdout",
     "output_type": "stream",
     "text": [
      "url: https://llis.nasa.gov/lesson/374\n",
      "subject: Higher Data Rates Possible Through Station Arraying\n",
      "abstract: Because the MVM '73 project went to a degraded telemetry mode after failure of an onboard tape recorder, the project had to use DSN arraying schemes to provide higher mission telemetry data rates. The project and the DSN must foresee and plan the use of complex and previously unused capabilities sufficiently in advance to allow the proper analysis and configuration testing to be completed.\n",
      "driving_event: A previous failure of the onboard tape recorder had made the \"full resolution, full frame 117.6 kbps\" mode the primary telecommunications mode at the second Mercury encounter. The increased Mercury to Earth range, relative to first Mercury encounter, required (1) a communications improvement of at least one dB over the performance obtained at the first Mercury encounter, and (2) commitment by the MVM '73 project to a bit error rate higher than .0333. The Telecommunications Division and the Deep Space Network (DSN) worked together to devise an arraying scheme to improve the signal-to-noise ratio. This consisted of real-time arraying of DSS-14, DSS-13, and DSS-12 at Goldstone through microwave connections. Testing one week before encounter showed a signal-to-noise ratio improvement of 0.8 dB; the actual improvement on encounter day was 1.0 dB. In addition, non real-time arraying of the signals from DSS-14 at Goldstone and DSS-43 at Canberra was to be attempted. This would consist of combining the tape-recorded signals from each of these stations to gain additional signal-to-noise ratio. This was accomplished at the DSN's Compatibility Test Area 21 and in the Division 33 Telecommunications Development Laboratory. The bit error rate achieved in real time met the .0333 criterion for more than five hours during the encounter. Additional Keyword(s): Tracking Station\n",
      "lessons_learned: The use of DSN arraying schemes can provide higher mission telemetry data rates than might otherwise have been possible.\n",
      "recommendations: The project and the DSN must foresee and plan the use of complex and previously unused capabilities sufficiently in advance to allow the proper analysis and configuration testing to be completed. Otherwise, prediction accuracy is degraded.\n",
      "evidence: JPL has referenced this lesson learned as additional rationale and guidance supporting Paragraph 6.2.2 (\"Engineering Practices: Telecommunication Design\") in the Jet Propulsion Laboratory standard \"Flight Project Practices, Rev. 7,\" JPL DocID 58032, September 30, 2008. In addition, JPL has referenced the lesson as supporting Paragraph 3.1.3 (\"Mission Design: General - Protection of Critical Data\") in the JPL standard \"Design, Verification/Validation and Operations Principles for Flight Systems (Design Principles),\" JPL Document D-17868, Rev. 3, December 11, 2006.\n",
      "program_relation: N/A\n",
      "program_phase: None\n",
      "mission_directorate: None\n",
      "topics: None\n"
     ]
    }
   ],
   "source": [
    "# Check a sample chunk\n",
    "print(docs[0].text)"
   ]
  },
  {
   "cell_type": "code",
   "execution_count": 27,
   "metadata": {},
   "outputs": [
    {
     "name": "stderr",
     "output_type": "stream",
     "text": [
      "2025-02-04 11:23:24,502 - INFO - Starting document ingestion pipeline...\n",
      "2025-02-04 11:23:27,798 - INFO - HTTP Request: POST https://api.openai.com/v1/embeddings \"HTTP/1.1 200 OK\"\n",
      "2025-02-04 11:23:31,177 - INFO - HTTP Request: POST https://api.openai.com/v1/embeddings \"HTTP/1.1 200 OK\"\n",
      "2025-02-04 11:23:34,367 - INFO - HTTP Request: POST https://api.openai.com/v1/embeddings \"HTTP/1.1 200 OK\"\n",
      "2025-02-04 11:23:36,912 - INFO - HTTP Request: POST https://api.openai.com/v1/embeddings \"HTTP/1.1 200 OK\"\n",
      "2025-02-04 11:23:39,363 - INFO - HTTP Request: POST https://api.openai.com/v1/embeddings \"HTTP/1.1 200 OK\"\n",
      "2025-02-04 11:23:41,212 - INFO - HTTP Request: POST https://api.openai.com/v1/embeddings \"HTTP/1.1 200 OK\"\n",
      "2025-02-04 11:23:42,602 - INFO - HTTP Request: POST https://api.openai.com/v1/embeddings \"HTTP/1.1 200 OK\"\n",
      "2025-02-04 11:23:43,123 - INFO - Created 648 nodes from documents\n"
     ]
    }
   ],
   "source": [
    "# Create and run ingestion pipeline\n",
    "logger.info(\"Starting document ingestion pipeline...\")\n",
    "pipeline = IngestionPipeline(\n",
    "    vector_store=vector_store,\n",
    "    documents=docs\n",
    ")\n",
    "nodes = pipeline.run()\n",
    "logger.info(f\"Created {len(nodes)} nodes from documents\")"
   ]
  },
  {
   "cell_type": "code",
   "execution_count": 28,
   "metadata": {},
   "outputs": [
    {
     "name": "stderr",
     "output_type": "stream",
     "text": [
      "2025-02-04 11:23:43,130 - INFO - Creating vector store index...\n",
      "2025-02-04 11:23:43,319 - INFO - Vector store index and query engine created\n"
     ]
    }
   ],
   "source": [
    "# Create vector store index and query engine\n",
    "logger.info(\"Creating vector store index...\")\n",
    "vector_store_index = VectorStoreIndex(nodes)\n",
    "query_engine = vector_store_index.as_query_engine(similarity_top_k=2)\n",
    "logger.info(\"Vector store index and query engine created\")"
   ]
  },
  {
   "cell_type": "code",
   "execution_count": 29,
   "metadata": {},
   "outputs": [],
   "source": [
    "def ask_question(question):\n",
    "    logger.info(f\"Processing question: {question}\")\n",
    "    query_start_time = time.time()\n",
    "    response = query_engine.query(question)\n",
    "    query_duration = time.time() - query_start_time\n",
    "    \n",
    "    logger.info(f\"Question answered in {query_duration:.2f} seconds\")\n",
    "    logger.info(\"Question: \" + question)\n",
    "    logger.info(\"Answer: \" + str(response.response))\n",
    "    \n",
    "    return response.response"
   ]
  },
  {
   "cell_type": "code",
   "execution_count": 30,
   "metadata": {},
   "outputs": [
    {
     "name": "stderr",
     "output_type": "stream",
     "text": [
      "2025-02-04 11:23:43,354 - INFO - Processing question: What can we learn from the 2000 HESSI spacecraft overtest incident that severely damaged the spacecraft?\n"
     ]
    },
    {
     "name": "stdout",
     "output_type": "stream",
     "text": [
      "\n",
      "Question: What can we learn from the 2000 HESSI spacecraft overtest incident that severely damaged the spacecraft?\n"
     ]
    },
    {
     "name": "stderr",
     "output_type": "stream",
     "text": [
      "2025-02-04 11:23:45,208 - INFO - HTTP Request: POST https://api.openai.com/v1/embeddings \"HTTP/1.1 200 OK\"\n",
      "2025-02-04 11:23:52,664 - INFO - HTTP Request: POST https://api.openai.com/v1/chat/completions \"HTTP/1.1 200 OK\"\n",
      "2025-02-04 11:23:52,671 - INFO - Question answered in 9.32 seconds\n",
      "2025-02-04 11:23:52,672 - INFO - Question: What can we learn from the 2000 HESSI spacecraft overtest incident that severely damaged the spacecraft?\n",
      "2025-02-04 11:23:52,672 - INFO - Answer: The 2000 HESSI spacecraft overtest incident highlights several important lessons regarding environmental testing and the maintenance of test facilities. Key takeaways include:\n",
      "\n",
      "1. **Inherent Risks of Environmental Testing**: Recognizing that environmental testing carries risks is crucial. It is essential to proactively maintain and track the mechanical health of test facilities and upgrade them as necessary.\n",
      "\n",
      "2. **Facility Validation**: Conducting a vibration facility validation test prior to the actual test is vital. This should include a simulated mass mock-up to calibrate the test setup effectively.\n",
      "\n",
      "3. **Test Planning and Execution**: Clearly defining test requirements in the test plan and ensuring that test operators are adequately trained and informed is critical. This includes understanding the data available for assessing the quality of the test setup.\n",
      "\n",
      "4. **Monitoring and Self-Checks**: Implementing self-checks and evaluating critical control system response data in real-time during testing can help identify issues before they escalate.\n",
      "\n",
      "5. **Awareness of Equipment Limitations**: Understanding the limitations and potential failure modes of older test equipment is necessary to prevent unexpected incidents.\n",
      "\n",
      "6. **Pre-Test Procedures**: Ensuring that pre-test procedures are followed meticulously, including proper maintenance of test equipment, can mitigate risks associated with testing.\n",
      "\n",
      "These lessons emphasize the importance of thorough preparation, maintenance, and monitoring in the testing process to safeguard both the hardware and personnel involved.\n",
      "2025-02-04 11:23:52,673 - INFO - Total execution time: 28.36 seconds\n"
     ]
    },
    {
     "name": "stdout",
     "output_type": "stream",
     "text": [
      "\n",
      "Answer: The 2000 HESSI spacecraft overtest incident highlights several important lessons regarding environmental testing and the maintenance of test facilities. Key takeaways include:\n",
      "\n",
      "1. **Inherent Risks of Environmental Testing**: Recognizing that environmental testing carries risks is crucial. It is essential to proactively maintain and track the mechanical health of test facilities and upgrade them as necessary.\n",
      "\n",
      "2. **Facility Validation**: Conducting a vibration facility validation test prior to the actual test is vital. This should include a simulated mass mock-up to calibrate the test setup effectively.\n",
      "\n",
      "3. **Test Planning and Execution**: Clearly defining test requirements in the test plan and ensuring that test operators are adequately trained and informed is critical. This includes understanding the data available for assessing the quality of the test setup.\n",
      "\n",
      "4. **Monitoring and Self-Checks**: Implementing self-checks and evaluating critical control system response data in real-time during testing can help identify issues before they escalate.\n",
      "\n",
      "5. **Awareness of Equipment Limitations**: Understanding the limitations and potential failure modes of older test equipment is necessary to prevent unexpected incidents.\n",
      "\n",
      "6. **Pre-Test Procedures**: Ensuring that pre-test procedures are followed meticulously, including proper maintenance of test equipment, can mitigate risks associated with testing.\n",
      "\n",
      "These lessons emphasize the importance of thorough preparation, maintenance, and monitoring in the testing process to safeguard both the hardware and personnel involved.\n"
     ]
    }
   ],
   "source": [
    "# Example usage\n",
    "if __name__ == \"__main__\":\n",
    "    question = \"What can we learn from the 2000 HESSI spacecraft overtest incident that severely damaged the spacecraft?\"\n",
    "    print(\"\\nQuestion:\", question)\n",
    "    answer = ask_question(question)\n",
    "    print(\"\\nAnswer:\", answer)\n",
    "    \n",
    "    # Log total execution time\n",
    "    total_duration = time.time() - start_time\n",
    "    logger.info(f\"Total execution time: {total_duration:.2f} seconds\")"
   ]
  }
 ],
 "metadata": {
  "kernelspec": {
   "display_name": "Python 3",
   "language": "python",
   "name": "python3"
  },
  "language_info": {
   "codemirror_mode": {
    "name": "ipython",
    "version": 3
   },
   "file_extension": ".py",
   "mimetype": "text/x-python",
   "name": "python",
   "nbconvert_exporter": "python",
   "pygments_lexer": "ipython3",
   "version": "3.12.9"
  }
 },
 "nbformat": 4,
 "nbformat_minor": 2
}
